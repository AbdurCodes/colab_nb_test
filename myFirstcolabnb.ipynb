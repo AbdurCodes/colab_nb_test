{
  "nbformat": 4,
  "nbformat_minor": 0,
  "metadata": {
    "colab": {
      "provenance": [],
      "authorship_tag": "ABX9TyOqKbz2XgPhfOYV1DjYwu/K",
      "include_colab_link": true
    },
    "kernelspec": {
      "name": "python3",
      "display_name": "Python 3"
    },
    "language_info": {
      "name": "python"
    }
  },
  "cells": [
    {
      "cell_type": "markdown",
      "metadata": {
        "id": "view-in-github",
        "colab_type": "text"
      },
      "source": [
        "<a href=\"https://colab.research.google.com/github/AbdurCodes/colab_nb_test/blob/main/myFirstcolabnb.ipynb\" target=\"_parent\"><img src=\"https://colab.research.google.com/assets/colab-badge.svg\" alt=\"Open In Colab\"/></a>"
      ]
    },
    {
      "cell_type": "code",
      "execution_count": null,
      "metadata": {
        "id": "H4qmd88gOyWf",
        "colab": {
          "base_uri": "https://localhost:8080/"
        },
        "outputId": "0c6b75ad-0085-4dd4-d3b5-bf39cc332b79"
      },
      "outputs": [
        {
          "output_type": "execute_result",
          "data": {
            "text/plain": [
              "86400"
            ]
          },
          "metadata": {},
          "execution_count": 1
        }
      ],
      "source": [
        "seconds_in_a_day = 24 * 60 * 60\n",
        "seconds_in_a_day"
      ]
    },
    {
      "cell_type": "markdown",
      "source": [
        "the above code is about the **number** of seconds in a day\n"
      ],
      "metadata": {
        "id": "lj2KUkdFVDCj"
      }
    },
    {
      "cell_type": "code",
      "source": [],
      "metadata": {
        "id": "BMEs0_H-WZWx"
      },
      "execution_count": null,
      "outputs": []
    }
  ]
}